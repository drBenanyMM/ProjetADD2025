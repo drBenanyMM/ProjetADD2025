{
 "cells": [
  {
   "cell_type": "code",
   "execution_count": 175,
   "id": "7adbe47f",
   "metadata": {},
   "outputs": [],
   "source": [
    "# Importation des bibliothèques nécessaires\n",
    "import numpy as np\n",
    "import pandas as pd\n",
    "from numpy.linalg import eig, det\n",
    "import matplotlib.pyplot as plt\n",
    "\n",
    "# Création des données\n",
    "data = {\n",
    "    'Pays': ['A', 'B', 'C', 'D'],\n",
    "    'IDE': [300, 450, 950, 700],\n",
    "    'Taux_croissance': [2, 2, 8, 7],\n",
    "    'Taux_inflation': [6, 4, 2, 5]\n",
    "}\n",
    "df = pd.DataFrame(data)\n",
    "X = df[['IDE', 'Taux_croissance', 'Taux_inflation']].values"
   ]
  },
  {
   "cell_type": "markdown",
   "id": "15c98bda",
   "metadata": {},
   "source": [
    "# 1. Calcul de la moyenne et de l'écart type"
   ]
  },
  {
   "cell_type": "markdown",
   "id": "1e3745f7",
   "metadata": {},
   "source": [
    "### Moyenne et Écart-type\n",
    "\n",
    "Pour chaque variable $( X )$, les statistiques sont calculées comme suit :\n",
    "\n",
    "#### Moyenne :\n",
    "$$\n",
    "\\bar{x} = \\frac{1}{n} \\sum_{i=1}^{n} x_i\n",
    "$$\n",
    "\n",
    "#### Écart-type (échantillon) :\n",
    "$$\n",
    "\\sigma = \\sqrt{ \\frac{1}{n - 1} \\sum_{i=1}^{n} (x_i - \\bar{x})^2 }\n",
    "$$\n",
    "\n",
    "où :\n",
    "- $( n )$ est le nombre d'observations,\n",
    "- $( x_i )$ est la valeur de la variable pour l'observation $( i )$."
   ]
  },
  {
   "cell_type": "code",
   "execution_count": 176,
   "id": "e3739d6a",
   "metadata": {},
   "outputs": [
    {
     "name": "stdout",
     "output_type": "stream",
     "text": [
      "1. Moyennes: [600.     4.75   4.25]\n",
      "Écarts-types: [247.48737342   2.77263413   1.47901995]\n"
     ]
    }
   ],
   "source": [
    "# 1. Calcul de la moyenne et de l'écart type\n",
    "means = np.mean(X, axis=0)\n",
    "#stds = np.std(X, axis=0, ddof=1)\n",
    "stds_b =  np.std(X, axis=0, ddof=0)\n",
    "print(\"1. Moyennes:\", means)\n",
    "print(\"Écarts-types:\", stds_b)"
   ]
  },
  {
   "cell_type": "markdown",
   "id": "0aac8ca5",
   "metadata": {},
   "source": [
    "# 2. Matrice centrée réduite"
   ]
  },
  {
   "cell_type": "markdown",
   "id": "3107f7c2",
   "metadata": {},
   "source": [
    "### Matrice centrée réduite (standardisation)\n",
    "\n",
    "#### Definition: \n",
    "La matrice centrée réduite (ou matrice standardisée), chaque variable doit étre transformée pour avoir une moyenne de 0 et un écart-type de 1\n",
    "\n",
    "Pour chaque élément $( x_{ij} )$ d'une variable $( j )$ et d'une observation $( i )$, la formule de standardisation est :\n",
    "\n",
    "$$\n",
    "z_{ij} = \\frac{x_{ij} - \\bar{x}_j}{s_j}\n",
    "$$\n",
    "\n",
    "où :\n",
    "\n",
    "- $( x_{ij} )$ est la valeur brute de l’observation $( i )$ pour la variable $( j )$,\n",
    "- $( \\bar{x}_j )$ est la moyenne de la variable $( j )$,\n",
    "- $( s_j )$ est l’écart-type (non biaisé) de la variable $( j )$,\n",
    "- $( z_{ij} )$ est la valeur centrée réduite.\n",
    "\n",
    "L’ensemble des $( z_{ij} )$ forme la **matrice centrée réduite** $( Z )$.\n"
   ]
  },
  {
   "cell_type": "code",
   "execution_count": 191,
   "id": "91265f08",
   "metadata": {},
   "outputs": [
    {
     "name": "stdout",
     "output_type": "stream",
     "text": [
      "\n",
      "2. Matrice centrée réduite:\n",
      " [[-1.21 -0.99  1.18]\n",
      " [-0.61 -0.99 -0.17]\n",
      " [ 1.41  1.17 -1.52]\n",
      " [ 0.4   0.81  0.51]]\n"
     ]
    }
   ],
   "source": [
    "# 2. Matrice centrée réduite\n",
    "X_cr = (X - means) / stds_b\n",
    "#print(\"\\n2. Matrice centrée réduite:\\n\", X_cr)\n",
    "print(\"\\n2. Matrice centrée réduite:\\n\", np.round(X_cr, 2))"
   ]
  },
  {
   "cell_type": "code",
   "execution_count": 192,
   "id": "3b1fc390",
   "metadata": {},
   "outputs": [
    {
     "name": "stdout",
     "output_type": "stream",
     "text": [
      "1. Moyennes: 0.0\n",
      "Écarts-types: [1. 1. 1.]\n"
     ]
    }
   ],
   "source": [
    "# Test de la moyenne et de l'écart type\n",
    "means2= np.mean(X_cr)\n",
    "stds_b2 =  np.std(X_cr, axis=0, ddof=0)\n",
    "print(\"1. Moyennes:\", means2)\n",
    "print(\"Écarts-types:\", stds_b2)"
   ]
  },
  {
   "cell_type": "markdown",
   "id": "37ca0353",
   "metadata": {},
   "source": [
    "# 3. Matrice des variances-covariances"
   ]
  },
  {
   "cell_type": "markdown",
   "id": "8b9cd7b3",
   "metadata": {},
   "source": [
    "### Matrice des variances-covariances\n",
    "\n",
    "La **matrice des variances-covariances** est notée $( \\Sigma )$ et se calcule par :\n",
    "\n",
    "$$\n",
    "\\Sigma = \\frac{1}{n - 1} (X - \\bar{X})^T (X - \\bar{X})\n",
    "$$\n",
    "\n",
    "où :\n",
    "\n",
    "- $( X )$ est la matrice des données brutes (n observations, p variables),\n",
    "- $( \\bar{X} )$ est la matrice des moyennes (chaque colonne centrée),\n",
    "- $( n )$ est le nombre d’observations.\n",
    "\n",
    "Chaque élément $( \\sigma_{ij} )$ représente la covariance entre les variables $( i )$ et $( j )$.  \n",
    "La diagonale contient les variances de chaque variable.\n",
    "\n",
    "> ⚠️ On utilise $( n - 1 )$ car on suppose que les données représentent un **échantillon**.\n"
   ]
  },
  {
   "cell_type": "code",
   "execution_count": 179,
   "id": "f2bb84c0",
   "metadata": {},
   "outputs": [
    {
     "name": "stdout",
     "output_type": "stream",
     "text": [
      "\n",
      "3. Matrice des variances-covariances:\n",
      " [[ 1.    0.95 -0.82]\n",
      " [ 0.95  1.   -0.59]\n",
      " [-0.82 -0.59  1.  ]]\n"
     ]
    }
   ],
   "source": [
    "# 3. Matrice des variances-covariances\n",
    "cov_matrix = np.cov(X_cr.T, ddof=0)\n",
    "print(\"\\n3. Matrice des variances-covariances:\\n\", cov_matrix.round(2))\n",
    "\n"
   ]
  },
  {
   "cell_type": "markdown",
   "id": "a34e42b7",
   "metadata": {},
   "source": [
    "# 4. Matrice des corrélations\n"
   ]
  },
  {
   "cell_type": "markdown",
   "id": "92610cda",
   "metadata": {},
   "source": [
    "### Matrice des corrélations\n",
    "\n",
    "La **matrice des corrélations** $( R )$ est définie par :\n",
    "\n",
    "$$\n",
    "R = \\left[ r_{ij} \\right] \\quad \\text{où} \\quad r_{ij} = \\frac{\\text{Cov}(X_i, X_j)}{\\sigma_i \\cdot \\sigma_j}\n",
    "$$\n",
    "\n",
    "où :\n",
    "\n",
    "- $( \\text{Cov}(X_i, X_j) )$ est la covariance entre les variables $( X_i )$ et $( X_j )$,\n",
    "- $( \\sigma_i )$ et $( \\sigma_j )$ sont les écarts-types des variables $( X_i )$ et $( X_j )$,\n",
    "- $( r_{ij} \\in [-1, 1] )$ est le coefficient de corrélation de Pearson.\n",
    "\n",
    "La diagonale contient des 1, car chaque variable est parfaitement corrélée avec elle-même.\n"
   ]
  },
  {
   "cell_type": "code",
   "execution_count": 180,
   "id": "06c6bd62",
   "metadata": {},
   "outputs": [
    {
     "name": "stdout",
     "output_type": "stream",
     "text": [
      "\n",
      "4. Matrice des corrélations:\n",
      " [[ 1.    0.95 -0.82]\n",
      " [ 0.95  1.   -0.59]\n",
      " [-0.82 -0.59  1.  ]]\n"
     ]
    }
   ],
   "source": [
    "# 4. Matrice des corrélations\n",
    "corr_matrix = np.corrcoef(X_cr.T)\n",
    "print(\"\\n4. Matrice des corrélations:\\n\", corr_matrix.round(2))"
   ]
  },
  {
   "cell_type": "markdown",
   "id": "6d880030",
   "metadata": {},
   "source": [
    "# 5. Polynôme caractéristique\n"
   ]
  },
  {
   "cell_type": "markdown",
   "id": "f06342ce",
   "metadata": {},
   "source": [
    "### Polynôme caractéristique\n",
    "\n",
    "Le **polynôme caractéristique** d'une matrice $( A \\in \\mathbb{R}^{n \\times n} )$ est défini par :\n",
    "\n",
    "$$\n",
    "P(\\lambda) = \\det(A - \\lambda I)\n",
    "$$\n",
    "\n",
    "où :\n",
    "\n",
    "- $( \\lambda )$ est une variable scalaire,\n",
    "- $( I )$ est la matrice identité de même dimension que $( A )$,\n",
    "- $( \\det )$ désigne le déterminant.\n",
    "\n",
    "Les **racines** du polynôme caractéristique sont les **valeurs propres** de la matrice $( A )$.\n"
   ]
  },
  {
   "cell_type": "code",
   "execution_count": 181,
   "id": "f0891931",
   "metadata": {},
   "outputs": [],
   "source": [
    "# 5. Polynôme caractéristique\n",
    "# Pour une matrice 3x3, le polynôme caractéristique est det(A - λI) = 0\n",
    "# Calculer manuellement pour plus de clarté\n",
    "def char_poly(lamb, A):\n",
    "    I = np.eye(A.shape[0])\n",
    "    A_minus_lambda_I = A - lamb * I\n",
    "    return det(A_minus_lambda_I)"
   ]
  },
  {
   "cell_type": "markdown",
   "id": "ed01a6b7",
   "metadata": {},
   "source": [
    "# 6. Calcul des valeurs propres\n"
   ]
  },
  {
   "cell_type": "markdown",
   "id": "db918be6",
   "metadata": {},
   "source": [
    "### Valeurs propres d'une matrice\n",
    "\n",
    "Les **valeurs propres** $( \\lambda )$ d’une matrice $( A )$ sont les solutions de :\n",
    "\n",
    "$$\n",
    "\\det(A - \\lambda I) = 0\n",
    "$$\n",
    "\n",
    "où :\n",
    "\n",
    "- $( A )$ est une matrice carrée (ici, la matrice des corrélations),\n",
    "- $( I )$ est la matrice identité de même dimension que $( A )$,\n",
    "- $( \\lambda )$ sont les **valeurs propres** de $( A )$.\n",
    "\n",
    "Chaque valeur propre correspond à une **composante principale** dans une ACP.\n"
   ]
  },
  {
   "cell_type": "code",
   "execution_count": 182,
   "id": "37e30134",
   "metadata": {},
   "outputs": [
    {
     "name": "stdout",
     "output_type": "stream",
     "text": [
      "\n",
      "6. Valeurs propres: [2.58284840e+00 5.63943272e-04 4.16587657e-01]\n"
     ]
    }
   ],
   "source": [
    "# 6. Calcul des valeurs propres\n",
    "eigenvalues, eigenvectors = eig(cov_matrix)\n",
    "print(\"\\n6. Valeurs propres:\", eigenvalues)"
   ]
  },
  {
   "cell_type": "markdown",
   "id": "18c383b0",
   "metadata": {},
   "source": [
    "# 7. Inertie des axes factoriels\n"
   ]
  },
  {
   "cell_type": "markdown",
   "id": "d826e47c",
   "metadata": {},
   "source": [
    "### Inertie des axes factoriels\n",
    "\n",
    "L’**inertie** associée à une valeur propre $( \\lambda_j )$ est la part de la variance totale expliquée par le **jᵉ axe principal** :\n",
    "\n",
    "$$\n",
    "I_j = \\frac{\\lambda_j}{\\sum_{k=1}^{p} \\lambda_k}\n",
    "$$\n",
    "\n",
    "L’**inertie cumulée** jusqu’au jᵉ axe est :\n",
    "\n",
    "$$\n",
    "CI_j = \\sum_{k=1}^{j} I_k\n",
    "$$\n",
    "\n",
    "où :\n",
    "\n",
    "- $( \\lambda_j )$ est la jᵉ valeur propre,\n",
    "- $( p )$ est le nombre total de variables.\n",
    "\n",
    "> En ACP, on retient souvent les axes expliquant ensemble au moins **80 %** de la variance.\n"
   ]
  },
  {
   "cell_type": "code",
   "execution_count": 183,
   "id": "b3fb3f52",
   "metadata": {},
   "outputs": [
    {
     "name": "stdout",
     "output_type": "stream",
     "text": [
      "\n",
      "7. Inertie des axes factoriels (%): [8.60949467e+01 1.87981091e-02 1.38862552e+01]\n",
      "Inertie totale: 2.9999999999999973\n"
     ]
    }
   ],
   "source": [
    "\n",
    "# 7. Inertie des axes factoriels\n",
    "total_inertia = np.sum(eigenvalues)\n",
    "inertia_percent = (eigenvalues / total_inertia) * 100\n",
    "print(\"\\n7. Inertie des axes factoriels (%):\", inertia_percent)\n",
    "print(\"Inertie totale:\", total_inertia)"
   ]
  },
  {
   "cell_type": "markdown",
   "id": "2a2680bd",
   "metadata": {},
   "source": [
    "# 8. Vecteurs propres orthogonaux\n"
   ]
  },
  {
   "cell_type": "markdown",
   "id": "77659d66",
   "metadata": {},
   "source": [
    "### Vecteurs propres associés aux valeurs propres\n",
    "\n",
    "Les vecteurs propres $( v_j )$ sont les solutions de l’équation :\n",
    "\n",
    "$$\n",
    "A \\cdot v_j = \\lambda_j \\cdot v_j\n",
    "$$\n",
    "\n",
    "où :\n",
    "\n",
    "- $( A )$ est la matrice carrée (ici, la matrice des corrélations),\n",
    "- $( \\lambda_j )$ est une valeur propre,\n",
    "- $( v_j )$ est un vecteur propre associé à $( \\lambda_j )$.\n",
    "\n",
    "Ces vecteurs sont **orthogonaux entre eux** et **normalisés** (longueur = 1).\n",
    "Ils définissent les nouveaux axes principaux du nuage de données.\n"
   ]
  },
  {
   "cell_type": "code",
   "execution_count": 184,
   "id": "af5ea03d",
   "metadata": {},
   "outputs": [
    {
     "name": "stdout",
     "output_type": "stream",
     "text": [
      "\n",
      "8. Vecteurs propres:\n",
      " [[ 0.62025991  0.77518972  0.11982712]\n",
      " [ 0.57253946 -0.55184094  0.6063581 ]\n",
      " [-0.53616807  0.30749386  0.78611152]]\n"
     ]
    }
   ],
   "source": [
    "# 8. Vecteurs propres orthogonaux\n",
    "print(\"\\n8. Vecteurs propres:\\n\", eigenvectors)"
   ]
  },
  {
   "cell_type": "markdown",
   "id": "11db27d6",
   "metadata": {},
   "source": [
    "# 9. Corrélation des variables avec les composantes principales\n"
   ]
  },
  {
   "cell_type": "markdown",
   "id": "83458718",
   "metadata": {},
   "source": [
    "### Corrélation entre variables et composantes principales\n",
    "\n",
    "La corrélation entre une variable $( X_i )$ et une composante principale $( C_j )$ est :\n",
    "\n",
    "$$\n",
    "\\text{corr}(X_i, C_j) = \\sqrt{\\lambda_j} \\cdot v_{ij}\n",
    "$$\n",
    "\n",
    "où :\n",
    "\n",
    "- $( \\lambda_j )$ est la jᵉ valeur propre,\n",
    "- $( v_{ij} )$ est la iᵉ coordonnée du jᵉ vecteur propre.\n",
    "\n",
    "> Ces corrélations permettent de comprendre quelles variables sont les plus représentées dans chaque axe principal.\n"
   ]
  },
  {
   "cell_type": "code",
   "execution_count": 185,
   "id": "ac2755d4",
   "metadata": {},
   "outputs": [
    {
     "name": "stdout",
     "output_type": "stream",
     "text": [
      "\n",
      "9. Corrélations des variables avec les composantes principales:\n",
      " [[ 0.99683475  0.01840881  0.07734074]\n",
      " [ 0.92014207 -0.01310484  0.39136536]\n",
      " [-0.86168872  0.00730221  0.50738469]]\n"
     ]
    }
   ],
   "source": [
    "# 9. Corrélation des variables avec les composantes principales\n",
    "# Corrélation = vecteurs propres * sqrt(valeurs propres)\n",
    "correlations = eigenvectors * np.sqrt(eigenvalues)\n",
    "print(\"\\n9. Corrélations des variables avec les composantes principales:\\n\", correlations)"
   ]
  },
  {
   "cell_type": "markdown",
   "id": "f94708de",
   "metadata": {},
   "source": [
    "# 10. Contribution des individus (CONTR)\n"
   ]
  },
  {
   "cell_type": "markdown",
   "id": "43d95925",
   "metadata": {},
   "source": [
    "### Contribution d’une variable à une composante principale\n",
    "\n",
    "La contribution d’une variable $( X_i )$ à la composante principale $( C_j )$ est :\n",
    "\n",
    "$$\n",
    "\\text{CONTR}(X_i, C_j) = \\frac{\\text{corr}(X_i, C_j)^2}{\\lambda_j}\n",
    "$$\n",
    "\n",
    "où :\n",
    "\n",
    "- $( \\text{corr}(X_i, C_j) )$ est la corrélation entre la variable $( X_i )$ et l’axe $( C_j )$,\n",
    "- $( \\lambda_j )$ est la valeur propre associée à $( C_j )$.\n",
    "\n",
    "> Cela permet de savoir quelles variables contribuent le plus à chaque axe.\n"
   ]
  },
  {
   "cell_type": "code",
   "execution_count": 186,
   "id": "ca775c1a",
   "metadata": {},
   "outputs": [
    {
     "name": "stdout",
     "output_type": "stream",
     "text": [
      "\n",
      "10. Contributions des individus (%):\n",
      " [[36.96 36.02  2.02]\n",
      " [ 7.05 28.88 39.07]\n",
      " [54.09 14.93  5.98]\n",
      " [ 1.9  20.17 52.93]]\n"
     ]
    }
   ],
   "source": [
    "# 10. Contribution des individus (CONTR)\n",
    "# Calcul des coordonnées des individus sur les axes principaux\n",
    "coords = X_cr @ eigenvectors\n",
    "contr = (coords**2 / np.sum(coords**2, axis=0)) * 100\n",
    "#print(\"\\n10. Contributions des individus (%):\\n\", contr)\n",
    "print(\"\\n10. Contributions des individus (%):\\n\", np.around(contr, 2))"
   ]
  },
  {
   "cell_type": "markdown",
   "id": "a0514805",
   "metadata": {},
   "source": [
    "# Visualisation des résultats (optionnel)\n"
   ]
  },
  {
   "cell_type": "code",
   "execution_count": 188,
   "id": "43f9494d",
   "metadata": {},
   "outputs": [
    {
     "data": {
      "image/png": "[encoded data removed]",
      "text/plain": [
       "<Figure size 800x600 with 1 Axes>"
      ]
     },
     "metadata": {},
     "output_type": "display_data"
    }
   ],
   "source": [
    "# Visualisation des résultats (optionnel)\n",
    "plt.figure(figsize=(8, 6))\n",
    "plt.scatter(coords[:, 0], coords[:, 1], c='blue')\n",
    "for i, pays in enumerate(df['Pays']):\n",
    "    plt.text(coords[i, 0], coords[i, 1], pays)\n",
    "plt.xlabel('Composante Principale 1')\n",
    "plt.ylabel('Composante Principale 2')\n",
    "plt.title('Projection des pays sur les deux premières composantes principales')\n",
    "plt.grid(True)\n",
    "plt.savefig('acp_plot.png')"
   ]
  },
  {
   "cell_type": "code",
   "execution_count": null,
   "id": "dcbacef1",
   "metadata": {},
   "outputs": [],
   "source": []
  }
 ],
 "metadata": {
  "kernelspec": {
   "display_name": "base",
   "language": "python",
   "name": "python3"
  },
  "language_info": {
   "codemirror_mode": {
    "name": "ipython",
    "version": 3
   },
   "file_extension": ".py",
   "mimetype": "text/x-python",
   "name": "python",
   "nbconvert_exporter": "python",
   "pygments_lexer": "ipython3",
   "version": "3.12.7"
  }
 },
 "nbformat": 4,
 "nbformat_minor": 5
}
