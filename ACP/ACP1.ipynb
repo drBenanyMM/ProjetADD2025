{
 "cells": [
  {
   "cell_type": "markdown",
   "id": "c1a038ea",
   "metadata": {},
   "source": [
    "# Importation de biblio"
   ]
  },
  {
   "cell_type": "code",
   "execution_count": 8,
   "id": "bf444359",
   "metadata": {},
   "outputs": [],
   "source": [
    "import pandas as pd\n",
    "import numpy as np\n",
    "import os\n",
    "import sys"
   ]
  },
  {
   "cell_type": "markdown",
   "id": "0b32c58c",
   "metadata": {},
   "source": [
    "# Création du DataFrame"
   ]
  },
  {
   "cell_type": "code",
   "execution_count": 9,
   "id": "4c957ab9",
   "metadata": {},
   "outputs": [
    {
     "data": {
      "text/html": [
       "<div>\n",
       "<style scoped>\n",
       "    .dataframe tbody tr th:only-of-type {\n",
       "        vertical-align: middle;\n",
       "    }\n",
       "\n",
       "    .dataframe tbody tr th {\n",
       "        vertical-align: top;\n",
       "    }\n",
       "\n",
       "    .dataframe thead th {\n",
       "        text-align: right;\n",
       "    }\n",
       "</style>\n",
       "<table border=\"1\" class=\"dataframe\">\n",
       "  <thead>\n",
       "    <tr style=\"text-align: right;\">\n",
       "      <th></th>\n",
       "      <th>IDE</th>\n",
       "      <th>Croissance</th>\n",
       "      <th>Inflation</th>\n",
       "    </tr>\n",
       "    <tr>\n",
       "      <th>Pays</th>\n",
       "      <th></th>\n",
       "      <th></th>\n",
       "      <th></th>\n",
       "    </tr>\n",
       "  </thead>\n",
       "  <tbody>\n",
       "    <tr>\n",
       "      <th>A</th>\n",
       "      <td>300</td>\n",
       "      <td>2</td>\n",
       "      <td>6</td>\n",
       "    </tr>\n",
       "    <tr>\n",
       "      <th>B</th>\n",
       "      <td>450</td>\n",
       "      <td>2</td>\n",
       "      <td>4</td>\n",
       "    </tr>\n",
       "    <tr>\n",
       "      <th>C</th>\n",
       "      <td>950</td>\n",
       "      <td>8</td>\n",
       "      <td>2</td>\n",
       "    </tr>\n",
       "    <tr>\n",
       "      <th>D</th>\n",
       "      <td>700</td>\n",
       "      <td>7</td>\n",
       "      <td>5</td>\n",
       "    </tr>\n",
       "  </tbody>\n",
       "</table>\n",
       "</div>"
      ],
      "text/plain": [
       "      IDE  Croissance  Inflation\n",
       "Pays                            \n",
       "A     300           2          6\n",
       "B     450           2          4\n",
       "C     950           8          2\n",
       "D     700           7          5"
      ]
     },
     "execution_count": 9,
     "metadata": {},
     "output_type": "execute_result"
    }
   ],
   "source": [
    "data = {\n",
    "    'Pays': ['A', 'B', 'C', 'D'],\n",
    "    'IDE': [300, 450, 950, 700],\n",
    "    'Croissance': [2, 2, 8, 7],\n",
    "    'Inflation': [6, 4, 2, 5]\n",
    "}\n",
    "df = pd.DataFrame(data)\n",
    "df.set_index('Pays', inplace=True)\n",
    "df\n"
   ]
  },
  {
   "cell_type": "markdown",
   "id": "a3862161",
   "metadata": {},
   "source": [
    "# Q1 Moyenne et écart-type des variables\n"
   ]
  },
  {
   "cell_type": "code",
   "execution_count": 10,
   "id": "171b8c99",
   "metadata": {},
   "outputs": [
    {
     "name": "stdout",
     "output_type": "stream",
     "text": [
      "🎯 Moyennes :\n",
      " IDE           600.00\n",
      "Croissance      4.75\n",
      "Inflation       4.25\n",
      "dtype: float64\n",
      "\n",
      "📏 Écarts-types :\n",
      " IDE           285.773803\n",
      "Croissance      3.201562\n",
      "Inflation       1.707825\n",
      "dtype: float64\n"
     ]
    }
   ],
   "source": [
    "moyenne = df.mean()\n",
    "ecart_type = df.std(ddof=1)\n",
    "print(\"🎯 Moyennes :\\n\", moyenne)\n",
    "print(\"\\n📏 Écarts-types :\\n\", ecart_type)\n"
   ]
  },
  {
   "cell_type": "code",
   "execution_count": 11,
   "id": "32d2017b",
   "metadata": {},
   "outputs": [
    {
     "data": {
      "text/html": [
       "<div>\n",
       "<style scoped>\n",
       "    .dataframe tbody tr th:only-of-type {\n",
       "        vertical-align: middle;\n",
       "    }\n",
       "\n",
       "    .dataframe tbody tr th {\n",
       "        vertical-align: top;\n",
       "    }\n",
       "\n",
       "    .dataframe thead th {\n",
       "        text-align: right;\n",
       "    }\n",
       "</style>\n",
       "<table border=\"1\" class=\"dataframe\">\n",
       "  <thead>\n",
       "    <tr style=\"text-align: right;\">\n",
       "      <th></th>\n",
       "      <th>IDE</th>\n",
       "      <th>Croissance</th>\n",
       "      <th>Inflation</th>\n",
       "    </tr>\n",
       "    <tr>\n",
       "      <th>Pays</th>\n",
       "      <th></th>\n",
       "      <th></th>\n",
       "      <th></th>\n",
       "    </tr>\n",
       "  </thead>\n",
       "  <tbody>\n",
       "    <tr>\n",
       "      <th>A</th>\n",
       "      <td>-1.049781</td>\n",
       "      <td>-0.858956</td>\n",
       "      <td>1.024695</td>\n",
       "    </tr>\n",
       "    <tr>\n",
       "      <th>B</th>\n",
       "      <td>-0.524891</td>\n",
       "      <td>-0.858956</td>\n",
       "      <td>-0.146385</td>\n",
       "    </tr>\n",
       "    <tr>\n",
       "      <th>C</th>\n",
       "      <td>1.224745</td>\n",
       "      <td>1.015129</td>\n",
       "      <td>-1.317465</td>\n",
       "    </tr>\n",
       "    <tr>\n",
       "      <th>D</th>\n",
       "      <td>0.349927</td>\n",
       "      <td>0.702782</td>\n",
       "      <td>0.439155</td>\n",
       "    </tr>\n",
       "  </tbody>\n",
       "</table>\n",
       "</div>"
      ],
      "text/plain": [
       "           IDE  Croissance  Inflation\n",
       "Pays                                 \n",
       "A    -1.049781   -0.858956   1.024695\n",
       "B    -0.524891   -0.858956  -0.146385\n",
       "C     1.224745    1.015129  -1.317465\n",
       "D     0.349927    0.702782   0.439155"
      ]
     },
     "execution_count": 11,
     "metadata": {},
     "output_type": "execute_result"
    }
   ],
   "source": [
    "# 📌 Cellule 4 : Matrice centrée réduite (Z)\n",
    "Z = (df - moyenne) / ecart_type\n",
    "Z\n"
   ]
  }
 ],
 "metadata": {
  "kernelspec": {
   "display_name": "base",
   "language": "python",
   "name": "python3"
  },
  "language_info": {
   "codemirror_mode": {
    "name": "ipython",
    "version": 3
   },
   "file_extension": ".py",
   "mimetype": "text/x-python",
   "name": "python",
   "nbconvert_exporter": "python",
   "pygments_lexer": "ipython3",
   "version": "3.12.7"
  }
 },
 "nbformat": 4,
 "nbformat_minor": 5
}
